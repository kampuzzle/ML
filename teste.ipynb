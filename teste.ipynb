{
 "cells": [
  {
   "cell_type": "code",
   "execution_count": 1,
   "metadata": {},
   "outputs": [
    {
     "ename": "ModuleNotFoundError",
     "evalue": "No module named 'praw'",
     "output_type": "error",
     "traceback": [
      "\u001b[0;31m---------------------------------------------------------------------------\u001b[0m",
      "\u001b[0;31mModuleNotFoundError\u001b[0m                       Traceback (most recent call last)",
      "\u001b[1;32m/home/kampuzzle/paula/ML/teste.ipynb Cell 1'\u001b[0m in \u001b[0;36m<cell line: 3>\u001b[0;34m()\u001b[0m\n\u001b[1;32m      <a href='vscode-notebook-cell:/home/kampuzzle/paula/ML/teste.ipynb#ch0000000?line=0'>1</a>\u001b[0m \u001b[39mimport\u001b[39;00m \u001b[39mcollections\u001b[39;00m\n\u001b[1;32m      <a href='vscode-notebook-cell:/home/kampuzzle/paula/ML/teste.ipynb#ch0000000?line=1'>2</a>\u001b[0m \u001b[39mimport\u001b[39;00m \u001b[39mitertools\u001b[39;00m\n\u001b[0;32m----> <a href='vscode-notebook-cell:/home/kampuzzle/paula/ML/teste.ipynb#ch0000000?line=2'>3</a>\u001b[0m \u001b[39mimport\u001b[39;00m \u001b[39mpraw\u001b[39;00m \n\u001b[1;32m      <a href='vscode-notebook-cell:/home/kampuzzle/paula/ML/teste.ipynb#ch0000000?line=3'>4</a>\u001b[0m \u001b[39mimport\u001b[39;00m \u001b[39mmatplotlib\u001b[39;00m\u001b[39m.\u001b[39;00m\u001b[39mpyplot\u001b[39;00m \u001b[39mas\u001b[39;00m \u001b[39mplt\u001b[39;00m\n\u001b[1;32m      <a href='vscode-notebook-cell:/home/kampuzzle/paula/ML/teste.ipynb#ch0000000?line=5'>6</a>\u001b[0m reddit \u001b[39m=\u001b[39m praw\u001b[39m.\u001b[39mReddit(\n\u001b[1;32m      <a href='vscode-notebook-cell:/home/kampuzzle/paula/ML/teste.ipynb#ch0000000?line=6'>7</a>\u001b[0m   client_id \u001b[39m=\u001b[39m\u001b[39m'\u001b[39m\u001b[39mwbzA3Ai8w2dT3MAltsMG-g\u001b[39m\u001b[39m'\u001b[39m, \n\u001b[1;32m      <a href='vscode-notebook-cell:/home/kampuzzle/paula/ML/teste.ipynb#ch0000000?line=7'>8</a>\u001b[0m   client_secret \u001b[39m=\u001b[39m\u001b[39m'\u001b[39m\u001b[39mjzeAgrSIgEzTPoCGZXjuyVaESvRCHw\u001b[39m\u001b[39m'\u001b[39m, \n\u001b[0;32m   (...)\u001b[0m\n\u001b[1;32m     <a href='vscode-notebook-cell:/home/kampuzzle/paula/ML/teste.ipynb#ch0000000?line=10'>11</a>\u001b[0m   password \u001b[39m=\u001b[39m\u001b[39m'\u001b[39m\u001b[39mmachinelearningcourse\u001b[39m\u001b[39m'\u001b[39m\n\u001b[1;32m     <a href='vscode-notebook-cell:/home/kampuzzle/paula/ML/teste.ipynb#ch0000000?line=11'>12</a>\u001b[0m ) \n",
      "\u001b[0;31mModuleNotFoundError\u001b[0m: No module named 'praw'"
     ]
    }
   ],
   "source": [
    "import collections\n",
    "import itertools\n",
    "import praw \n",
    "import matplotlib.pyplot as plt\n",
    "\n",
    "reddit = praw.Reddit(\n",
    "  client_id ='wbzA3Ai8w2dT3MAltsMG-g', \n",
    "  client_secret ='jzeAgrSIgEzTPoCGZXjuyVaESvRCHw', \n",
    "  user_agent ='coldplay 1.0 by /u/kampuzzle', \n",
    "  username ='kampuzzle', \n",
    "  password ='machinelearningcourse'\n",
    ") \n",
    "\n",
    "subreddit = reddit.subreddit('coldplay')\n",
    "\n",
    "stop_words = [\n",
    "  'the', 'to', 'and', 'a', 'in', 'it', 'is', 'i', 'that', 'had', 'on', 'for', 'were', 'was', 'ourselves', 'hers', 'between', 'yourself', 'but', 'again', 'there', 'about', 'once', 'during', 'out', 'very', 'having', 'with', 'they', 'own', 'an', 'be', 'some', 'for', 'do', 'its', 'yours', 'such', 'into', 'of', 'most', 'itself', 'other', 'off', 'is', 's', 'am', 'or', 'who', 'as', 'from', 'him', 'each', 'the', 'themselves', 'until', 'below', 'are', 'we', 'these', 'your', 'his', 'through', 'don', 'nor', 'me', 'were', 'her', 'more', 'himself', 'this', 'down', 'should', 'our', 'their', 'while', 'above', 'both', 'up', 'to', 'ours', 'had', 'she', 'all', 'no', 'when', 'at', 'any', 'before', 'them', 'same', 'and', 'been', 'have', 'in', 'will', 'on', 'does', 'yourselves', 'then', 'that', 'because', 'what', 'over', 'why', 'so', 'can', 'did', 'not', 'now', 'under', 'he', 'you', 'herself', 'has', 'just', 'where', 'too', 'only', 'myself', 'which', 'those', 'i', 'after', 'few', 'whom', 't', 'being', 'if', 'theirs', 'my', 'against', 'a', 'by', 'doing', 'it', 'how', 'further', 'was', 'here', 'than', 'oh', \"i'm\", \"that's\", \"it's\", \"i've\", \"i'll\"\n",
    "]\n",
    "\n",
    "words = []\n",
    "\n",
    "# get the top word in a subreddit\n",
    "for submission in subreddit.top(limit=1000):\n",
    "  submission.comments.replace_more(limit=0)\n",
    "  for top_level_comment in submission.comments:\n",
    "    word = \"\"\n",
    "    for letter in top_level_comment.body:\n",
    "      if letter == ' ': \n",
    "        if not word.lower() in stop_words and word.isalnum():\n",
    "          words.append(word)\n",
    "          word = \"\"\n",
    "        else:\n",
    "          word += letter\n",
    "\n",
    "\n",
    "counts = collections.Counter(words)\n",
    "list(itertools.chain.from_iterable([[k for _ in range(counts[k])] for k in sorted(counts, key=counts.__getitem__, reverse=True)]))\n",
    "\n",
    "top_list = sorted(counts, key=counts.__getitem__, reverse=True)\n",
    "\n",
    "i = 0\n",
    "top_words = []\n",
    "top_count = []\n",
    "\n",
    "while i < 10:\n",
    "  top_words.append(top_list[i])\n",
    "  top_count.append(words.count(top_list[i]))\n",
    "    # print(top_list[i], words.count(top_list[i]))\n",
    "  i+=1\n",
    "\n",
    "\n",
    "plt.title('Top 10 words in the subreddit: ' + subreddit.display_name)\n",
    "plt.pie(top_count, labels=top_words, autopct='%1.1f%%')\n",
    "plt.show()"
   ]
  }
 ],
 "metadata": {
  "interpreter": {
   "hash": "916dbcbb3f70747c44a77c7bcd40155683ae19c65e1c03b4aa3499c5328201f1"
  },
  "kernelspec": {
   "display_name": "Python 3.8.10 64-bit",
   "language": "python",
   "name": "python3"
  },
  "language_info": {
   "codemirror_mode": {
    "name": "ipython",
    "version": 3
   },
   "file_extension": ".py",
   "mimetype": "text/x-python",
   "name": "python",
   "nbconvert_exporter": "python",
   "pygments_lexer": "ipython3",
   "version": "3.8.10"
  },
  "orig_nbformat": 4
 },
 "nbformat": 4,
 "nbformat_minor": 2
}
